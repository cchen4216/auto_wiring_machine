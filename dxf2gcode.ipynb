{
 "cells": [
  {
   "cell_type": "markdown",
   "metadata": {},
   "source": [
    "这个程序的处理工作是：\n",
    "\n",
    "- 读入 Capital printed dxf format file\n",
    "- 解析其中的布线数据以及每条 wire 的属性数据\n",
    "- 原样绘制出 wire layout，以验证解析处理的正确性\n",
    "- 根据 wire layout 数据，生成对应的 gcode 代码并输出\n",
    "\n",
    "### dxfgrabber\n",
    "\n",
    "`dxfgrabber` is a Python library to grab information from DXF drawings - all DXF versions supported."
   ]
  },
  {
   "cell_type": "code",
   "execution_count": 1,
   "metadata": {},
   "outputs": [],
   "source": [
    "import dxfgrabber"
   ]
  },
  {
   "cell_type": "code",
   "execution_count": 33,
   "metadata": {},
   "outputs": [],
   "source": [
    "dxf = dxfgrabber.readfile(\"./single-Line.dxf\")"
   ]
  },
  {
   "cell_type": "code",
   "execution_count": 34,
   "metadata": {},
   "outputs": [
    {
     "data": {
      "text/plain": [
       "dxfgrabber.drawing.Drawing"
      ]
     },
     "execution_count": 34,
     "metadata": {},
     "output_type": "execute_result"
    }
   ],
   "source": [
    "type(dxf)\n",
    "# print(\"DXF version: {}\".format(dxf.dxfversion))"
   ]
  },
  {
   "cell_type": "markdown",
   "metadata": {},
   "source": [
    "使用命令 `dir(dxf)` 可以查看 dxf 对象主要有如下一些属性。\n",
    "\n",
    "`acdsdata`, `assure_3d_coords`, `blocks`, `collect_sab_data`, `dxfversion`, `encoding`, `entities`, `filename`, `grab_blocks`, `header`, `layers`, `linetypes`, `modelspace`, `objects`, `paperspace`, `resolve_text_styles`, `styles`"
   ]
  },
  {
   "cell_type": "code",
   "execution_count": 19,
   "metadata": {},
   "outputs": [
    {
     "data": {
      "text/plain": [
       "208"
      ]
     },
     "execution_count": 19,
     "metadata": {},
     "output_type": "execute_result"
    }
   ],
   "source": [
    "# dict of dxf header vars\n",
    "header_var_count = len(dxf.header)\n",
    "header_var_count"
   ]
  },
  {
   "cell_type": "code",
   "execution_count": 20,
   "metadata": {},
   "outputs": [
    {
     "data": {
      "text/plain": [
       "1"
      ]
     },
     "execution_count": 20,
     "metadata": {},
     "output_type": "execute_result"
    }
   ],
   "source": [
    "# collection of layer definitions\n",
    "layer_count = len(dxf.layers)\n",
    "layer_count"
   ]
  },
  {
   "cell_type": "code",
   "execution_count": 21,
   "metadata": {},
   "outputs": [
    {
     "data": {
      "text/plain": [
       "3"
      ]
     },
     "execution_count": 21,
     "metadata": {},
     "output_type": "execute_result"
    }
   ],
   "source": [
    "# dict like collection of block definitions\n",
    "block_definition_count = len(dxf.blocks)\n",
    "block_definition_count"
   ]
  },
  {
   "cell_type": "code",
   "execution_count": 22,
   "metadata": {},
   "outputs": [
    {
     "data": {
      "text/plain": [
       "10"
      ]
     },
     "execution_count": 22,
     "metadata": {},
     "output_type": "execute_result"
    }
   ],
   "source": [
    "# list like collection of entities\n",
    "entity_count = len(dxf.entities)\n",
    "entity_count"
   ]
  },
  {
   "cell_type": "code",
   "execution_count": 35,
   "metadata": {},
   "outputs": [
    {
     "data": {
      "text/plain": [
       "[<dxfgrabber.dxfentities.Line at 0x10df3d588>]"
      ]
     },
     "execution_count": 35,
     "metadata": {},
     "output_type": "execute_result"
    }
   ],
   "source": [
    "all_lines = [entity for entity in dxf.entities if entity.dxftype == 'LINE']\n",
    "all_lines"
   ]
  },
  {
   "cell_type": "code",
   "execution_count": null,
   "metadata": {},
   "outputs": [],
   "source": []
  }
 ],
 "metadata": {
  "kernelspec": {
   "display_name": "Python 3",
   "language": "python",
   "name": "python3"
  },
  "language_info": {
   "codemirror_mode": {
    "name": "ipython",
    "version": 3
   },
   "file_extension": ".py",
   "mimetype": "text/x-python",
   "name": "python",
   "nbconvert_exporter": "python",
   "pygments_lexer": "ipython3",
   "version": "3.6.5"
  }
 },
 "nbformat": 4,
 "nbformat_minor": 2
}
