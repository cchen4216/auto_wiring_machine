{
 "cells": [
  {
   "cell_type": "markdown",
   "metadata": {},
   "source": [
    "# 解析 Capital HarnessXC 导出的 DXF 文件\n",
    "\n"
   ]
  },
  {
   "cell_type": "code",
   "execution_count": 69,
   "metadata": {},
   "outputs": [],
   "source": [
    "import numpy as np\n",
    "import pandas as pd\n",
    "import matplotlib.pyplot as plt\n",
    "import dxfgrabber\n",
    "import ezdxf\n",
    "\n",
    "%matplotlib inline"
   ]
  },
  {
   "cell_type": "markdown",
   "metadata": {},
   "source": [
    "## 学习解析 AutoCAD 导出的 DXF 文件\n",
    "\n",
    "### 解析只有一条直线的 AutoCAD 图纸"
   ]
  },
  {
   "cell_type": "code",
   "execution_count": 70,
   "metadata": {},
   "outputs": [],
   "source": [
    "autocad = dxfgrabber.readfile(\"./single-Line.dxf\")"
   ]
  },
  {
   "cell_type": "code",
   "execution_count": 91,
   "metadata": {},
   "outputs": [
    {
     "data": {
      "text/plain": [
       "[<dxfgrabber.dxfentities.Line at 0x10757b5f8>]"
      ]
     },
     "execution_count": 91,
     "metadata": {},
     "output_type": "execute_result"
    }
   ],
   "source": [
    "entities = autocad.entities.get_entities()\n",
    "entities"
   ]
  },
  {
   "cell_type": "code",
   "execution_count": 92,
   "metadata": {},
   "outputs": [
    {
     "name": "stdout",
     "output_type": "stream",
     "text": [
      "['__class__', '__delattr__', '__dict__', '__dir__', '__doc__', '__eq__', '__format__', '__ge__', '__getattribute__', '__gt__', '__hash__', '__init__', '__init_subclass__', '__le__', '__lt__', '__module__', '__ne__', '__new__', '__reduce__', '__reduce_ex__', '__repr__', '__setattr__', '__sizeof__', '__str__', '__subclasshook__', '__weakref__', 'color', 'dxftype', 'end', 'extrusion', 'handle', 'invisible', 'layer', 'layout_tab_name', 'line_weight', 'linetype', 'ltscale', 'owner', 'paperspace', 'set_default_extrusion', 'setup_attributes', 'shadow_mode', 'start', 'thickness', 'transparency', 'true_color']\n"
     ]
    }
   ],
   "source": [
    "line = entities[0]\n",
    "print(dir(line))\n",
    "# dxftype, start, end, color, thickness, extrusion"
   ]
  },
  {
   "cell_type": "code",
   "execution_count": 88,
   "metadata": {},
   "outputs": [
    {
     "name": "stdout",
     "output_type": "stream",
     "text": [
      "(0.0, 0.0, 0.0) (0.018040877410335, 9.999983726323872, 0.0)\n"
     ]
    }
   ],
   "source": [
    "print(line.start, line.end)"
   ]
  },
  {
   "cell_type": "markdown",
   "metadata": {},
   "source": [
    "### 解析有直线和曲线的 AutoCAD 图纸"
   ]
  },
  {
   "cell_type": "code",
   "execution_count": 141,
   "metadata": {},
   "outputs": [],
   "source": [
    "linecurve = dxfgrabber.readfile('./line_curve_segments.dxf')"
   ]
  },
  {
   "cell_type": "code",
   "execution_count": 142,
   "metadata": {},
   "outputs": [
    {
     "data": {
      "text/plain": [
       "[<dxfgrabber.dxfentities.LWPolyline at 0x10ba3ea20>]"
      ]
     },
     "execution_count": 142,
     "metadata": {},
     "output_type": "execute_result"
    }
   ],
   "source": [
    "entities = linecurve.entities.get_entities()\n",
    "entities"
   ]
  },
  {
   "cell_type": "code",
   "execution_count": 147,
   "metadata": {},
   "outputs": [
    {
     "data": {
      "text/plain": [
       "(-1.3701120309204589,\n",
       " 5.3033250474818283,\n",
       " -0.50090899073758055,\n",
       " 10.51908880548919)"
      ]
     },
     "execution_count": 147,
     "metadata": {},
     "output_type": "execute_result"
    },
    {
     "data": {
      "image/png": "[encoded data removed]",
      "text/plain": [
       "<Figure size 432x288 with 1 Axes>"
      ]
     },
     "metadata": {},
     "output_type": "display_data"
    }
   ],
   "source": [
    "pts = entities[0].points\n",
    "x = [i[0] for i in pts]\n",
    "y = [i[1] for i in pts]\n",
    "plt.plot(x, y)\n",
    "plt.axis('equal')"
   ]
  },
  {
   "cell_type": "markdown",
   "metadata": {},
   "source": [
    "Linecurve 的 dxf 问价在 AutoCAD 中打开是下图的样子：\n",
    "\n",
    "![line_curve](images/line_curve.png)\n",
    "\n",
    "所以，目前的 LWPolyline 中并没有 curve 的数据点。这个问题需要进一步分析解决。\n",
    "\n",
    "我用文本编辑器打开这个 dxf 文件，使用 `polyline` 搜索，有四个元素，两个 `LWPOLYLINE` 两个 `AcDbPolyline`，感觉应该是刚好对应上图中的**两条线段和两条半圆弧**。下面我在 Drawing 对象中查找这个 `AcDbEntity` 以及 `AcDbPolyline`."
   ]
  },
  {
   "cell_type": "code",
   "execution_count": 149,
   "metadata": {},
   "outputs": [
    {
     "name": "stdout",
     "output_type": "stream",
     "text": [
      "['__class__', '__delattr__', '__dict__', '__dir__', '__doc__', '__eq__', '__format__', '__ge__', '__getattribute__', '__gt__', '__hash__', '__init__', '__init_subclass__', '__le__', '__lt__', '__module__', '__ne__', '__new__', '__reduce__', '__reduce_ex__', '__repr__', '__setattr__', '__sizeof__', '__str__', '__subclasshook__', '__weakref__', 'acdsdata', 'assure_3d_coords', 'blocks', 'collect_sab_data', 'dxfversion', 'encoding', 'entities', 'filename', 'grab_blocks', 'header', 'layers', 'linetypes', 'modelspace', 'objects', 'paperspace', 'resolve_text_styles', 'styles']\n"
     ]
    }
   ],
   "source": [
    "print(dir(linecurve))"
   ]
  },
  {
   "cell_type": "code",
   "execution_count": 154,
   "metadata": {},
   "outputs": [
    {
     "data": {
      "text/plain": [
       "{'*Model_Space': <dxfgrabber.dxfentities.Block at 0x10ba51080>,\n",
       " '*Paper_Space': <dxfgrabber.dxfentities.Block at 0x10ba51048>,\n",
       " '*Paper_Space0': <dxfgrabber.dxfentities.Block at 0x10758bac8>,\n",
       " 'A$C66E75886': <dxfgrabber.dxfentities.Block at 0x10ba51160>}"
      ]
     },
     "execution_count": 154,
     "metadata": {},
     "output_type": "execute_result"
    }
   ],
   "source": [
    "# dir(linecurve.blocks)\n",
    "linecurve.blocks._blocks"
   ]
  },
  {
   "cell_type": "code",
   "execution_count": 167,
   "metadata": {},
   "outputs": [],
   "source": [
    "# dir(linecurve.entities)\n",
    "polyline = linecurve.entities._entities[0]"
   ]
  },
  {
   "cell_type": "code",
   "execution_count": 170,
   "metadata": {},
   "outputs": [
    {
     "name": "stdout",
     "output_type": "stream",
     "text": [
      "['__class__', '__delattr__', '__dict__', '__dir__', '__doc__', '__eq__', '__format__', '__ge__', '__getattribute__', '__getitem__', '__gt__', '__hash__', '__init__', '__init_subclass__', '__iter__', '__le__', '__len__', '__lt__', '__module__', '__ne__', '__new__', '__reduce__', '__reduce_ex__', '__repr__', '__setattr__', '__sizeof__', '__str__', '__subclasshook__', '__weakref__', 'bulge', 'color', 'const_width', 'dxftype', 'elevation', 'extrusion', 'flags', 'handle', 'invisible', 'is_closed', 'layer', 'layout_tab_name', 'line_weight', 'linetype', 'ltscale', 'owner', 'paperspace', 'points', 'set_default_extrusion', 'setup_attributes', 'shadow_mode', 'thickness', 'transparency', 'true_color', 'width']\n"
     ]
    }
   ],
   "source": [
    "print(dir(polyline))"
   ]
  },
  {
   "cell_type": "code",
   "execution_count": 187,
   "metadata": {},
   "outputs": [
    {
     "data": {
      "text/plain": [
       "[(0.0, 0.0),\n",
       " (4.999986998463543, 0.0114024205992258),\n",
       " (4.992897154167596, 10.0113999073043),\n",
       " (-1.007099015235765, 10.01817981475161),\n",
       " (-1.066773981902173, 2.018402386700672)]"
      ]
     },
     "execution_count": 187,
     "metadata": {},
     "output_type": "execute_result"
    }
   ],
   "source": [
    "polyline.points"
   ]
  },
  {
   "cell_type": "markdown",
   "metadata": {},
   "source": [
    "## 尝试解析 Capital 导出的 DXF 文件"
   ]
  },
  {
   "cell_type": "code",
   "execution_count": 104,
   "metadata": {},
   "outputs": [],
   "source": [
    "dxf = dxfgrabber.readfile(\"Capital_harnessXC.dxf\")"
   ]
  },
  {
   "cell_type": "code",
   "execution_count": 62,
   "metadata": {},
   "outputs": [],
   "source": [
    "# dir(dxf)  # 查看 dxf 文件的组成"
   ]
  },
  {
   "cell_type": "code",
   "execution_count": 105,
   "metadata": {},
   "outputs": [],
   "source": [
    "# dir(dxf.header)\n",
    "# dir(dxf.entities)\n",
    "entities = dxf.entities.get_entities()"
   ]
  },
  {
   "cell_type": "code",
   "execution_count": 106,
   "metadata": {},
   "outputs": [
    {
     "name": "stdout",
     "output_type": "stream",
     "text": [
      "LWPOLYLINE\n",
      "LWPOLYLINE\n",
      "LWPOLYLINE\n",
      "LWPOLYLINE\n",
      "CIRCLE\n",
      "CIRCLE\n",
      "CIRCLE\n",
      "CIRCLE\n",
      "CIRCLE\n",
      "CIRCLE\n",
      "CIRCLE\n",
      "TEXT\n",
      "TEXT\n",
      "TEXT\n",
      "TEXT\n",
      "TEXT\n",
      "TEXT\n"
     ]
    }
   ],
   "source": [
    "for temp in entities:\n",
    "    print(temp.dxftype)"
   ]
  },
  {
   "cell_type": "code",
   "execution_count": 120,
   "metadata": {},
   "outputs": [
    {
     "name": "stdout",
     "output_type": "stream",
     "text": [
      "(46.25, 9.999999999999993, 0.0)\n",
      "(46.25, 9.999999999999993, 0.0)\n",
      "(1.25, 44.99999999999999, 0.0)\n",
      "(1.25, 44.99999999999999, 0.0)\n",
      "(91.25, 44.99999999999999, 0.0)\n",
      "(81.25, 64.99999999999999, 0.0)\n",
      "(46.25, 39.99999999999999, 0.0)\n"
     ]
    }
   ],
   "source": [
    "for temp in entities:\n",
    "    if temp.dxftype == 'CIRCLE':\n",
    "        print(temp.center)\n",
    "        # circle attributes: center, radius, color, "
   ]
  },
  {
   "cell_type": "code",
   "execution_count": 138,
   "metadata": {},
   "outputs": [
    {
     "data": {
      "image/png": "[encoded data removed]",
      "text/plain": [
       "<Figure size 432x288 with 1 Axes>"
      ]
     },
     "metadata": {},
     "output_type": "display_data"
    }
   ],
   "source": [
    "for temp in entities:\n",
    "    if temp.dxftype == 'LWPOLYLINE':\n",
    "        # print(temp.points)\n",
    "        # LWPOLYLINE attributes: points, color, is_closed, thickness\n",
    "        pts = temp.points\n",
    "        x = [i[0] for i in pts]\n",
    "        y = [i[1] for i in pts]\n",
    "        plt.plot(x, y, 'k')\n"
   ]
  },
  {
   "cell_type": "code",
   "execution_count": null,
   "metadata": {},
   "outputs": [],
   "source": []
  },
  {
   "cell_type": "code",
   "execution_count": null,
   "metadata": {},
   "outputs": [],
   "source": []
  },
  {
   "cell_type": "code",
   "execution_count": null,
   "metadata": {},
   "outputs": [],
   "source": []
  }
 ],
 "metadata": {
  "kernelspec": {
   "display_name": "Python 3",
   "language": "python",
   "name": "python3"
  },
  "language_info": {
   "codemirror_mode": {
    "name": "ipython",
    "version": 3
   },
   "file_extension": ".py",
   "mimetype": "text/x-python",
   "name": "python",
   "nbconvert_exporter": "python",
   "pygments_lexer": "ipython3",
   "version": "3.6.5"
  }
 },
 "nbformat": 4,
 "nbformat_minor": 2
}
